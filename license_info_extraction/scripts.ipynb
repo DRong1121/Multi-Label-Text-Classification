{
 "cells": [
  {
   "cell_type": "code",
   "execution_count": 12,
   "metadata": {},
   "outputs": [],
   "source": [
    "import numpy as np\n",
    "import pandas as pd\n",
    "from sklearn.model_selection import train_test_split\n",
    "\n",
    "def split_dataset(file_path, train_save_path, test_save_path):\n",
    "    df = pd.read_csv(file_path, header=0, encoding='unicode_escape')\n",
    "    indices = range(df.shape[0])\n",
    "    train_indices, test_indices, _, _ = train_test_split(indices, indices, test_size=.2)\n",
    "    df_train = df.take(train_indices)\n",
    "    df_test = df.take(test_indices)\n",
    "    df_train.to_csv(train_save_path, index=False, sep=',')\n",
    "    df_test.to_csv(test_save_path, index=False, sep=',')\n"
   ]
  },
  {
   "cell_type": "code",
   "execution_count": 42,
   "metadata": {},
   "outputs": [],
   "source": [
    "split_dataset('data/Task1.csv', 'data/Task1.train.csv', 'data/Task1.test.csv')"
   ]
  },
  {
   "cell_type": "code",
   "execution_count": 40,
   "metadata": {},
   "outputs": [],
   "source": [
    "def statistic_item_num(file_path):\n",
    "    df = pd.read_csv(file_path, header=0, encoding='unicode_escape')\n",
    "    for i in range(2, df.shape[1]):\n",
    "        print(df.columns[i], len([j for j in df.values[:, i] if j == 1]))"
   ]
  },
  {
   "cell_type": "code",
   "execution_count": 41,
   "metadata": {},
   "outputs": [
    {
     "name": "stdout",
     "output_type": "stream",
     "text": [
      "commercial_use 118\n",
      "distribution 294\n",
      "modificatioin 236\n",
      "private_use 261\n",
      "patent_use 48\n",
      "trademark_use 51\n",
      "disclose_source 30\n",
      "network_use_disclose 3\n",
      "license_and_copyright_notice 252\n",
      "same_license 64\n",
      "state_changes 56\n",
      "liability 90\n",
      "warranty 202\n"
     ]
    }
   ],
   "source": [
    "statistic_item_num('data/Task1.csv')"
   ]
  },
  {
   "cell_type": "code",
   "execution_count": 79,
   "metadata": {},
   "outputs": [],
   "source": [
    "def drop_item(file_path, save_path, item):\n",
    "    df = pd.read_csv(file_path, header=0, encoding='unicode_escape')\n",
    "    print(df.columns)\n",
    "    print(len(df.columns))\n",
    "    print('item index: ', df.columns.tolist().index(item)-2)\n",
    "    df = df.drop(item, axis=1)\n",
    "    print(df.columns)\n",
    "    print(len(df.columns))\n",
    "    df.to_csv(save_path, index=False, sep=',')"
   ]
  },
  {
   "cell_type": "code",
   "execution_count": 80,
   "metadata": {},
   "outputs": [
    {
     "name": "stdout",
     "output_type": "stream",
     "text": [
      "Index(['id', 'text', 'commercial_use', 'distribution', 'modificatioin',\n",
      "       'private_use', 'patent_use', 'trademark_use', 'disclose_source',\n",
      "       'network_use_disclose', 'license_and_copyright_notice', 'same_license',\n",
      "       'state_changes', 'liability', 'warranty'],\n",
      "      dtype='object')\n",
      "15\n",
      "item index:  7\n",
      "Index(['id', 'text', 'commercial_use', 'distribution', 'modificatioin',\n",
      "       'private_use', 'patent_use', 'trademark_use', 'disclose_source',\n",
      "       'license_and_copyright_notice', 'same_license', 'state_changes',\n",
      "       'liability', 'warranty'],\n",
      "      dtype='object')\n",
      "14\n"
     ]
    }
   ],
   "source": [
    "drop_item('data/Task1.csv', 'data/Task1.12t.csv', 'network_use_disclose')"
   ]
  },
  {
   "cell_type": "code",
   "execution_count": 60,
   "metadata": {},
   "outputs": [],
   "source": [
    "split_dataset('data/Task1.12t.csv', 'data/Task1.train.12t.csv', 'data/Task1.test.12t.csv')"
   ]
  },
  {
   "cell_type": "code",
   "execution_count": 83,
   "metadata": {},
   "outputs": [],
   "source": [
    "import numpy as np\n",
    "def drop_item_embeddings(file_path, save_path,item_index):\n",
    "    with open(file_path, 'rb') as f:\n",
    "        embeddings = np.load(file_path)\n",
    "    dropped_embeddings = np.delete(embeddings, item_index, axis=0)\n",
    "    print(embeddings)\n",
    "    print(len(embeddings))\n",
    "    print(dropped_embeddings)\n",
    "    print(len(dropped_embeddings))\n",
    "    with open(save_path, 'wb') as f: \n",
    "        np.save(f, dropped_embeddings)\n",
    "    \n",
    "    \n",
    "    "
   ]
  },
  {
   "cell_type": "code",
   "execution_count": 84,
   "metadata": {},
   "outputs": [
    {
     "name": "stdout",
     "output_type": "stream",
     "text": [
      "[[ 0.38657227  0.0331566  -0.76083028 ... -0.28498709  0.64987069\n",
      "  -0.79481965]\n",
      " [-0.29290688 -0.29520565  0.21718031 ... -0.51590067  0.01662281\n",
      "  -0.73420215]\n",
      " [-0.47313762 -0.10855553  0.23607464 ... -0.43142563  0.11894286\n",
      "  -0.29604632]\n",
      " ...\n",
      " [-0.29031378 -0.39907241  0.04207345 ...  0.39671743 -0.4066931\n",
      "  -0.17244416]\n",
      " [-0.37573779 -0.02942125 -0.66407758 ...  0.01435765  0.97970849\n",
      "  -0.48380476]\n",
      " [-0.420901   -0.27990019 -0.3499088  ... -0.51610315  0.36106861\n",
      "  -0.30059016]]\n",
      "13\n",
      "[[ 0.38657227  0.0331566  -0.76083028 ... -0.28498709  0.64987069\n",
      "  -0.79481965]\n",
      " [-0.29290688 -0.29520565  0.21718031 ... -0.51590067  0.01662281\n",
      "  -0.73420215]\n",
      " [-0.47313762 -0.10855553  0.23607464 ... -0.43142563  0.11894286\n",
      "  -0.29604632]\n",
      " ...\n",
      " [-0.29031378 -0.39907241  0.04207345 ...  0.39671743 -0.4066931\n",
      "  -0.17244416]\n",
      " [-0.37573779 -0.02942125 -0.66407758 ...  0.01435765  0.97970849\n",
      "  -0.48380476]\n",
      " [-0.420901   -0.27990019 -0.3499088  ... -0.51610315  0.36106861\n",
      "  -0.30059016]]\n",
      "12\n"
     ]
    }
   ],
   "source": [
    "drop_item_embeddings('cache/label_embeddings.npy', 'cache/label_embeddings.12t.npy', 7)"
   ]
  },
  {
   "cell_type": "code",
   "execution_count": null,
   "metadata": {},
   "outputs": [],
   "source": [
    "\n"
   ]
  }
 ],
 "metadata": {
  "kernelspec": {
   "display_name": "Python [conda env:.conda-env_ner]",
   "language": "python",
   "name": "conda-env-.conda-env_ner-py"
  },
  "language_info": {
   "codemirror_mode": {
    "name": "ipython",
    "version": 3
   },
   "file_extension": ".py",
   "mimetype": "text/x-python",
   "name": "python",
   "nbconvert_exporter": "python",
   "pygments_lexer": "ipython3",
   "version": "3.6.12"
  }
 },
 "nbformat": 4,
 "nbformat_minor": 4
}
