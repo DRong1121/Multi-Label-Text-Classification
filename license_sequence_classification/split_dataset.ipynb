{
 "cells": [
  {
   "cell_type": "code",
   "execution_count": 1,
   "metadata": {},
   "outputs": [],
   "source": [
    "import numpy as np\n",
    "import pandas as pd\n",
    "from sklearn.model_selection import train_test_split\n",
    "\n",
    "def split_dataset(file_path, train_save_path, test_save_path):\n",
    "    df = pd.read_csv(file_path, header=0, encoding='unicode_escape')\n",
    "    indices = range(df.shape[0])\n",
    "    train_indices, test_indices, _, _ = train_test_split(indices, indices, test_size=.2)\n",
    "    df_train = df.take(train_indices)\n",
    "    df_test = df.take(test_indices)\n",
    "    df_train.to_csv(train_save_path, index=False, sep=',')\n",
    "    df_test.to_csv(test_save_path, index=False, sep=',')\n"
   ]
  },
  {
   "cell_type": "code",
   "execution_count": 2,
   "metadata": {},
   "outputs": [],
   "source": [
    "split_dataset('data/Task2.csv', 'data/Task2.train.csv', 'data/Task2.test.csv')"
   ]
  },
  {
   "cell_type": "code",
   "execution_count": null,
   "metadata": {},
   "outputs": [],
   "source": []
  }
 ],
 "metadata": {
  "kernelspec": {
   "display_name": "Python [conda env:.conda-env_ner]",
   "language": "python",
   "name": "conda-env-.conda-env_ner-py"
  },
  "language_info": {
   "codemirror_mode": {
    "name": "ipython",
    "version": 3
   },
   "file_extension": ".py",
   "mimetype": "text/x-python",
   "name": "python",
   "nbconvert_exporter": "python",
   "pygments_lexer": "ipython3",
   "version": "3.6.12"
  }
 },
 "nbformat": 4,
 "nbformat_minor": 4
}
